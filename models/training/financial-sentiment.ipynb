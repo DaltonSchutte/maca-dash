{
 "cells": [
  {
   "cell_type": "code",
   "execution_count": 2,
   "id": "4b11f87d",
   "metadata": {},
   "outputs": [],
   "source": [
    "from tqdm.notebook import tqdm\n",
    "\n",
    "import torch\n",
    "from torch.utils.data import DataLoader\n",
    "\n",
    "\n",
    "from transformers import (BertForSequenceClassification, \n",
    "                          BertTokenizerFast,\n",
    "                          DataCollatorWithPadding,\n",
    "                          AdamW,\n",
    "                          get_scheduler\n",
    "                         )\n",
    "from datasets import Dataset\n",
    "import evaluate\n",
    "\n",
    "import mlflow"
   ]
  },
  {
   "cell_type": "code",
   "execution_count": 3,
   "id": "bc1d2bfa",
   "metadata": {},
   "outputs": [
    {
     "name": "stdout",
     "output_type": "stream",
     "text": [
      "Using GPU!\n"
     ]
    }
   ],
   "source": [
    "DEVICE = 'cuda' if torch.cuda.is_available() else 'cpu'\n",
    "if DEVICE == 'cuda':\n",
    "    print('Using GPU!')\n",
    "else:\n",
    "    print('Using CPU!')"
   ]
  },
  {
   "cell_type": "code",
   "execution_count": null,
   "id": "72330a59",
   "metadata": {},
   "outputs": [],
   "source": [
    "# Import data"
   ]
  }
 ],
 "metadata": {
  "kernelspec": {
   "display_name": "Python 3 (ipykernel)",
   "language": "python",
   "name": "python3"
  },
  "language_info": {
   "codemirror_mode": {
    "name": "ipython",
    "version": 3
   },
   "file_extension": ".py",
   "mimetype": "text/x-python",
   "name": "python",
   "nbconvert_exporter": "python",
   "pygments_lexer": "ipython3",
   "version": "3.10.6"
  }
 },
 "nbformat": 4,
 "nbformat_minor": 5
}
